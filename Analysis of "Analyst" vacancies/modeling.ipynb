{
 "cells": [
  {
   "cell_type": "markdown",
   "metadata": {},
   "source": [
    "# Introduction\n",
    "\n",
    "#### Analysis of \"Analyst\" vacancies on Enbek.kz\n",
    "\n",
    "In this project, I will use the term \"prestigious job / vacancy\", this is a job / vacancy that has high salary, normal working conditions and, accordingly, high requirements in education and experience. That is, I want to understand in which regions there are prestigious jobs / vacancies.\n",
    "\n",
    "**Purpose of this project:** to predict job class by region.\n",
    "\n",
    "In order to divide the regions into classes, I added new column 'Perc_GRP', which represents percent of gross regional product (GRP) of main cities and regions.\n",
    "\n",
    "So, according to the percent of gross regional product (GRP), there were 3 classes:\n",
    "\n",
    "<ul>\n",
    "<li>0 - regions with high GRP</li>\n",
    "<li>1 - regions with medium GRP</li>\n",
    "<li>2 - regions with low GRP</li>\n",
    "</ul>\n"
   ]
  },
  {
   "cell_type": "markdown",
   "metadata": {},
   "source": [
    "## Data\n",
    "\n",
    "In this project work vacancies were established. The data was collected from the state website Enbek.kz via parsing method. This is the portal of the electronic labor exchange. \n",
    "\n",
    "So, my data consists of 571 vacancies. The data was filled with the vacancies \"risk analyst\", \"business analyst\", \"systems analyst\" and \"credit analyst\", while in project-1 only the vacancies \"statistician analyst\" were used."
   ]
  },
  {
   "cell_type": "code",
   "execution_count": 446,
   "metadata": {},
   "outputs": [],
   "source": [
    "#importing necessary libraries\n",
    "import csv\n",
    "import pandas as pd\n",
    "import numpy as np\n",
    "\n",
    "import matplotlib.pyplot as plt\n",
    "import seaborn as sns; sns.set()\n",
    "\n",
    "import torch\n",
    "import torch.nn as nn\n",
    "from torch.utils.data import Dataset, DataLoader\n",
    "\n",
    "from sklearn.preprocessing import scale\n",
    "from sklearn.model_selection import train_test_split"
   ]
  },
  {
   "cell_type": "code",
   "execution_count": 447,
   "metadata": {},
   "outputs": [
    {
     "data": {
      "text/html": [
       "<div>\n",
       "<style scoped>\n",
       "    .dataframe tbody tr th:only-of-type {\n",
       "        vertical-align: middle;\n",
       "    }\n",
       "\n",
       "    .dataframe tbody tr th {\n",
       "        vertical-align: top;\n",
       "    }\n",
       "\n",
       "    .dataframe thead th {\n",
       "        text-align: right;\n",
       "    }\n",
       "</style>\n",
       "<table border=\"1\" class=\"dataframe\">\n",
       "  <thead>\n",
       "    <tr style=\"text-align: right;\">\n",
       "      <th></th>\n",
       "      <th>Vacancy</th>\n",
       "      <th>Vacancy_Description</th>\n",
       "      <th>Industry</th>\n",
       "      <th>Company</th>\n",
       "      <th>Salary</th>\n",
       "      <th>Experience</th>\n",
       "      <th>Education</th>\n",
       "      <th>Location</th>\n",
       "      <th>Working_schedule</th>\n",
       "      <th>Working_conditions</th>\n",
       "      <th>Date</th>\n",
       "      <th>Salary_int</th>\n",
       "      <th>Experience_int</th>\n",
       "      <th>Education_int</th>\n",
       "      <th>Working_schedule_int</th>\n",
       "      <th>Working_conditions_int</th>\n",
       "      <th>Perc_GRP</th>\n",
       "    </tr>\n",
       "  </thead>\n",
       "  <tbody>\n",
       "    <tr>\n",
       "      <th>0</th>\n",
       "      <td>Аналитик</td>\n",
       "      <td>Эксперт-аналитик</td>\n",
       "      <td>Консалтинг, стратегическое развитие Аналитика</td>\n",
       "      <td>КОММУНАЛЬНОЕ ГОСУДАРСТВЕННОЕ УЧРЕЖДЕНИЕ \"ПРОЕК...</td>\n",
       "      <td>от80000тг.</td>\n",
       "      <td>1 год стажа</td>\n",
       "      <td>высшее</td>\n",
       "      <td>АЛМАТЫ</td>\n",
       "      <td>полный рабочий день</td>\n",
       "      <td>нормальные</td>\n",
       "      <td>10/9/2020</td>\n",
       "      <td>80000</td>\n",
       "      <td>1</td>\n",
       "      <td>1</td>\n",
       "      <td>1</td>\n",
       "      <td>1</td>\n",
       "      <td>20.3</td>\n",
       "    </tr>\n",
       "    <tr>\n",
       "      <th>1</th>\n",
       "      <td>Системный инженер</td>\n",
       "      <td>инженер по компьютерной технике и сетям</td>\n",
       "      <td>IT, телекоммуникации, связь, электроника Систе...</td>\n",
       "      <td>Коммунальное государственное учреждение \"Лицей...</td>\n",
       "      <td>от78398тг.</td>\n",
       "      <td>1 год стажа</td>\n",
       "      <td>высшее</td>\n",
       "      <td>АЛМАТЫ</td>\n",
       "      <td>полный рабочий день</td>\n",
       "      <td>нормальные</td>\n",
       "      <td>10/5/2020</td>\n",
       "      <td>78398</td>\n",
       "      <td>1</td>\n",
       "      <td>1</td>\n",
       "      <td>1</td>\n",
       "      <td>1</td>\n",
       "      <td>20.3</td>\n",
       "    </tr>\n",
       "    <tr>\n",
       "      <th>2</th>\n",
       "      <td>Аналитик</td>\n",
       "      <td>-</td>\n",
       "      <td>Консалтинг, стратегическое развитие Аналитика</td>\n",
       "      <td>ТОВАРИЩЕСТВО С ОГРАНИЧЕННОЙ ОТВЕТСТВЕННОСТЬЮ \"...</td>\n",
       "      <td>от80000тг.</td>\n",
       "      <td>1 год стажа</td>\n",
       "      <td>высшее</td>\n",
       "      <td>КОСТАНАЙСКАЯ_ОБЛ</td>\n",
       "      <td>полный рабочий день</td>\n",
       "      <td>нормальные</td>\n",
       "      <td>10/9/2020</td>\n",
       "      <td>80000</td>\n",
       "      <td>1</td>\n",
       "      <td>1</td>\n",
       "      <td>1</td>\n",
       "      <td>1</td>\n",
       "      <td>3.2</td>\n",
       "    </tr>\n",
       "    <tr>\n",
       "      <th>3</th>\n",
       "      <td>Аналитик по закупкам</td>\n",
       "      <td>Специалист по тендерам</td>\n",
       "      <td>Логистика, таможня, склад Снабжение</td>\n",
       "      <td>ТОВАРИЩЕСТВО С ОГРАНИЧЕННОЙ ОТВЕТСТВЕННОСТЬЮ \"...</td>\n",
       "      <td>от60000тг.</td>\n",
       "      <td>1 год стажа</td>\n",
       "      <td>высшее</td>\n",
       "      <td>АЛМАТЫ</td>\n",
       "      <td>полный рабочий день</td>\n",
       "      <td>нормальные</td>\n",
       "      <td>10/19/2020</td>\n",
       "      <td>60000</td>\n",
       "      <td>1</td>\n",
       "      <td>1</td>\n",
       "      <td>1</td>\n",
       "      <td>1</td>\n",
       "      <td>20.3</td>\n",
       "    </tr>\n",
       "    <tr>\n",
       "      <th>4</th>\n",
       "      <td>Аналитик</td>\n",
       "      <td>-</td>\n",
       "      <td>Консалтинг, стратегическое развитие Аналитика</td>\n",
       "      <td>Филиал Республиканского государственного казен...</td>\n",
       "      <td>от42500тг.</td>\n",
       "      <td>Без опыта работы</td>\n",
       "      <td>высшее</td>\n",
       "      <td>АКТЮБИНСКАЯ_ОБЛ</td>\n",
       "      <td>неполный рабочий день</td>\n",
       "      <td>нормальные</td>\n",
       "      <td>10/5/2020</td>\n",
       "      <td>42500</td>\n",
       "      <td>0</td>\n",
       "      <td>1</td>\n",
       "      <td>0</td>\n",
       "      <td>1</td>\n",
       "      <td>4.6</td>\n",
       "    </tr>\n",
       "  </tbody>\n",
       "</table>\n",
       "</div>"
      ],
      "text/plain": [
       "                Vacancy                      Vacancy_Description  \\\n",
       "0              Аналитик                         Эксперт-аналитик   \n",
       "1     Системный инженер  инженер по компьютерной технике и сетям   \n",
       "2              Аналитик                                        -   \n",
       "3  Аналитик по закупкам                   Специалист по тендерам   \n",
       "4              Аналитик                                        -   \n",
       "\n",
       "                                            Industry  \\\n",
       "0      Консалтинг, стратегическое развитие Аналитика   \n",
       "1  IT, телекоммуникации, связь, электроника Систе...   \n",
       "2      Консалтинг, стратегическое развитие Аналитика   \n",
       "3                Логистика, таможня, склад Снабжение   \n",
       "4      Консалтинг, стратегическое развитие Аналитика   \n",
       "\n",
       "                                             Company      Salary  \\\n",
       "0  КОММУНАЛЬНОЕ ГОСУДАРСТВЕННОЕ УЧРЕЖДЕНИЕ \"ПРОЕК...  от80000тг.   \n",
       "1  Коммунальное государственное учреждение \"Лицей...  от78398тг.   \n",
       "2  ТОВАРИЩЕСТВО С ОГРАНИЧЕННОЙ ОТВЕТСТВЕННОСТЬЮ \"...  от80000тг.   \n",
       "3  ТОВАРИЩЕСТВО С ОГРАНИЧЕННОЙ ОТВЕТСТВЕННОСТЬЮ \"...  от60000тг.   \n",
       "4  Филиал Республиканского государственного казен...  от42500тг.   \n",
       "\n",
       "         Experience Education          Location       Working_schedule  \\\n",
       "0       1 год стажа    высшее            АЛМАТЫ    полный рабочий день   \n",
       "1       1 год стажа    высшее            АЛМАТЫ    полный рабочий день   \n",
       "2       1 год стажа    высшее  КОСТАНАЙСКАЯ_ОБЛ    полный рабочий день   \n",
       "3       1 год стажа    высшее            АЛМАТЫ    полный рабочий день   \n",
       "4  Без опыта работы    высшее   АКТЮБИНСКАЯ_ОБЛ  неполный рабочий день   \n",
       "\n",
       "  Working_conditions        Date  Salary_int  Experience_int  Education_int  \\\n",
       "0         нормальные   10/9/2020       80000               1              1   \n",
       "1         нормальные   10/5/2020       78398               1              1   \n",
       "2         нормальные   10/9/2020       80000               1              1   \n",
       "3         нормальные  10/19/2020       60000               1              1   \n",
       "4         нормальные   10/5/2020       42500               0              1   \n",
       "\n",
       "   Working_schedule_int  Working_conditions_int  Perc_GRP  \n",
       "0                     1                       1      20.3  \n",
       "1                     1                       1      20.3  \n",
       "2                     1                       1       3.2  \n",
       "3                     1                       1      20.3  \n",
       "4                     0                       1       4.6  "
      ]
     },
     "execution_count": 447,
     "metadata": {},
     "output_type": "execute_result"
    }
   ],
   "source": [
    "#importing dataset from csv file\n",
    "df = pd.read_csv('data1.csv')\n",
    "df['Vacancy_Description'] = df['Vacancy_Description'].replace(np.nan, '-')\n",
    "df['Location'] = df['Location'].replace(np.nan, '-')\n",
    "\n",
    "#Extracting only integer part from the 'Salary' column and saving to new column 'Salary_int'\n",
    "df.Salary = df.Salary.str.replace(' ', '')\n",
    "sal = df['Salary'].str.extract('(\\d+)').astype(int) \n",
    "df['Salary_int'] = sal\n",
    "\n",
    "#Some replacements in columns 'Experience', 'Education', 'Working_schedule', 'Working_conditions' and 'Location'\n",
    "df['Experience_int'] = df.Experience.replace({\"1 год стажа\": 1, \"2 года стажа\": 2, \"3 года стажа\": 3, \"4 года стажа\": 4, \"5 лет стажа\": 5, \"6 лет стажа\": 6, \"10 лет стажа\": 10, \"Без опыта работы\": 0})\n",
    "\n",
    "df['Education_int'] = df.Education.replace({\"общее среднее (с 1 по 11/12 классы)\": 0, \"послесреднее\": 0, \"техническое и профессиональное\": 0, \"высшее\": 1, \"послевузовское\": 1})\n",
    "\n",
    "df['Working_schedule_int'] = df.Working_schedule.replace({\"неполная рабочая неделя\": 0, \"неполный рабочий день\": 0, \"вахтовый метод\": 1, \"посменный\": 1, \"полный рабочий день\": 1})\n",
    "\n",
    "df['Working_conditions_int'] = df.Working_conditions.replace({\"тяжелые и вредные\": 0, \"нормальные\": 1})\n",
    "\n",
    "df['Location'] = df['Location'].str.upper()\n",
    "df.loc[df['Location'].str.contains('НУР-СУЛТАН'), 'Location'] = 'НУР-СУЛТАН'\n",
    "df.loc[df['Location'].str.contains('АЛМАТЫ'), 'Location'] = 'АЛМАТЫ'\n",
    "df.loc[df['Location'].str.contains('АКМОЛИНСКАЯ'), 'Location'] = 'АКМОЛИНСКАЯ_ОБЛ'\n",
    "df.loc[df['Location'].str.contains('АЛМАТИНСКАЯ'), 'Location'] = 'АЛМАТИНСКАЯ_ОБЛ'\n",
    "df.loc[df['Location'].str.contains('КАРАГАНДА'), 'Location'] = 'КАРАГАНДИНСКАЯ_ОБЛ'\n",
    "df.loc[df['Location'].str.contains('АКТОБЕ'), 'Location'] = 'АКТЮБИНСКАЯ_ОБЛ'\n",
    "df.loc[df['Location'].str.contains('АКТЮБИНСКАЯ'), 'Location'] = 'АКТЮБИНСКАЯ_ОБЛ'\n",
    "df.loc[df['Location'].str.contains('АТЫРАУ'), 'Location'] = 'АТЫРАУСКАЯ_ОБЛ'\n",
    "df.loc[df['Location'].str.contains('УРАЛЬСК'), 'Location'] = 'ВКО'\n",
    "df.loc[df['Location'].str.contains('ТАРАЗ'), 'Location'] = 'ЖАМБЫЛСКАЯ_ОБЛ'\n",
    "df.loc[df['Location'].str.contains('ШЫМКЕНТ'), 'Location'] = 'ТУРКЕСТАНСКАЯ_ОБЛ'\n",
    "df.loc[df['Location'].str.contains('ТУРКЕСТАНСКАЯ'), 'Location'] = 'ТУРКЕСТАНСКАЯ_ОБЛ'\n",
    "df.loc[df['Location'].str.contains('КЫЗЫЛОРДА'), 'Location'] = 'КЫЗЫЛОРДИНСКАЯ_ОБЛ'\n",
    "df.loc[df['Location'].str.contains('ТУРКЕСТАН'), 'Location'] = 'ТУРКЕСТАНСКАЯ_ОБЛ'\n",
    "df.loc[df['Location'].str.contains('КОСТАНАЙ'), 'Location'] = 'КОСТАНАЙСКАЯ_ОБЛ'\n",
    "df.loc[df['Location'].str.contains('КОКШЕТАУ'), 'Location'] = 'АКМОЛИНСКАЯ_ОБЛ'\n",
    "df.loc[df['Location'].str.contains('ТЕМИРТАУ'), 'Location'] = 'КАРАГАНДИНСКАЯ_ОБЛ'\n",
    "df.loc[df['Location'].str.contains('В-КАЗАХСТАНСКАЯ'), 'Location'] = 'ВКО'\n",
    "df.loc[df['Location'].str.contains('МАНГИСТАУСКАЯ'), 'Location'] = 'МАНГИСТАУСКАЯ_ОБЛ'\n",
    "df.loc[df['Location'].str.contains('З-КАЗАХСТАНСКАЯ'), 'Location'] = 'ЗКО'\n",
    "df.loc[df['Location'].str.contains('С-КАЗАХСТАНСКАЯ'), 'Location'] = 'CКО'\n",
    "df.loc[df['Location'].str.contains('КАРАГАНДИНСКАЯ'), 'Location'] = 'КАРАГАНДИНСКАЯ_ОБЛ'\n",
    "df.loc[df['Location'].str.contains('АЛМАТИНСКАЯ'), 'Location'] = 'АЛМАТИНСКАЯ_ОБЛ'\n",
    "df.loc[df['Location'].str.contains('ПАВЛОДАРСКАЯ'), 'Location'] = 'ПАВЛОДАРСКАЯ_ОБЛ'\n",
    "df.loc[df['Location'].str.contains('РЕСПУБЛИКА'), 'Location'] = 'АКМОЛИНСКАЯ_ОБЛ'\n",
    "df.loc[df['Location'].str.contains('ЖАМБЫЛСКАЯ'), 'Location'] = 'ЖАМБЫЛСКАЯ_ОБЛ'\n",
    "df.loc[df['Location'].str.contains('КЫЗЫЛОРДИНСКАЯ'), 'Location'] = 'КЫЗЫЛОРДИНСКАЯ_ОБЛ'\n",
    "df.loc[df['Location'].str.contains('-'), 'Location'] = 'ВКО'\n",
    "\n",
    "#Adding new column 'Perc_GRP', which represents percent of gross regional product (GRP) of main cities and regions\n",
    "df['Perc_GRP'] = df.Location.replace({\"АКМОЛИНСКАЯ_ОБЛ\": 2.6, \"НУР-СУЛТАН\": 10.8, \"КОСТАНАЙСКАЯ_ОБЛ\": 3.2, \"CКО\": 1.6, \"ПАВЛОДАРСКАЯ_ОБЛ\": 4.7, \"ВКО\": 5.8, \"КАРАГАНДИНСКАЯ_ОБЛ\": 7.9, \"АЛМАТЫ\": 20.3, \"АЛМАТИНСКАЯ_ОБЛ\": 4.4, \"ЖАМБЫЛСКАЯ_ОБЛ\": 2.5, \"КЫЗЫЛОРДИНСКАЯ_ОБЛ\": 3.0, \"ТУРКЕСТАНСКАЯ_ОБЛ\": 6.2, \"АКТЮБИНСКАЯ_ОБЛ\": 4.6, \"АТЫРАУСКАЯ_ОБЛ\": 12.6, \"МАНГИСТАУСКАЯ_ОБЛ\": 5.2, \"ЗКО\": 4.6})\n",
    "\n",
    "df.head()"
   ]
  },
  {
   "cell_type": "markdown",
   "metadata": {},
   "source": [
    "As input (x) I took the following features(columns): 'Salary_int', 'Experience_int', 'Education_int', 'Working_schedule_int', 'Working_conditions_int'.\n",
    "\n",
    "And output (y) is column 'Perc_GRP'."
   ]
  },
  {
   "cell_type": "code",
   "execution_count": 448,
   "metadata": {},
   "outputs": [],
   "source": [
    "x = df.loc[:, ['Salary_int', 'Experience_int', 'Education_int', 'Working_schedule_int', 'Working_conditions_int']].values.copy()\n",
    "y = df.loc[:, 'Perc_GRP'].values.copy()"
   ]
  },
  {
   "cell_type": "code",
   "execution_count": 449,
   "metadata": {},
   "outputs": [],
   "source": [
    "#Dividing into classes by GRP\n",
    "for i, percent in enumerate(y):\n",
    "  if percent>=10:\n",
    "    y[i] = 0\n",
    "  elif percent<10 or percent>=5:\n",
    "    y[i] = 1\n",
    "  else:\n",
    "    y[i] = 2"
   ]
  },
  {
   "cell_type": "code",
   "execution_count": 450,
   "metadata": {},
   "outputs": [],
   "source": [
    "#Specifying dtype of y and normalize x\n",
    "y = pd.to_numeric(y)\n",
    "x_norm = scale(x)"
   ]
  },
  {
   "cell_type": "code",
   "execution_count": 761,
   "metadata": {},
   "outputs": [
    {
     "name": "stdout",
     "output_type": "stream",
     "text": [
      "Size of training x set:          (456, 5)\n",
      "Percentage of training set x:    80.0 %\n",
      "Size of validation x set:        (57, 5)\n",
      "Percentage of validation set x:  10.0 %\n",
      "Size of test x set:              (58, 5)\n",
      "Percentage of test set x:        10.0 %\n",
      "Size of training y set:          (456,)\n",
      "Percentage of training set y:    80.0 %\n",
      "Size of validation y set:        (57,)\n",
      "Percentage of validation set y:  10.0 %\n",
      "Size of test y set:              (58,)\n",
      "Percentage of test set y:        10.0 %\n"
     ]
    }
   ],
   "source": [
    "# Creating training set\n",
    "x_train, x_vt, y_train, y_vt = train_test_split(x_norm, y, test_size=0.2, random_state = 1, shuffle = True)\n",
    "x_train_perc = len(x_train)/len(x)*100\n",
    "y_train_perc = len(y_train)/len(y)*100\n",
    "\n",
    "# Creating validation and test sets\n",
    "x_valid, x_test, y_valid, y_test = train_test_split(x_vt, y_vt, test_size = 0.5, random_state = 42)\n",
    "x_valid_perc = len(x_valid)/len(x)*100\n",
    "x_test_perc = len(x_test)/len(x)*100\n",
    "y_valid_perc = len(y_valid)/len(y)*100\n",
    "y_test_perc = len(y_test)/len(y)*100\n",
    "\n",
    "print('Size of training x set:         ', x_train.shape)\n",
    "print('Percentage of training set x:   ', round(x_train_perc, 0), '%')\n",
    "print('Size of validation x set:       ', x_valid.shape)\n",
    "print('Percentage of validation set x: ', round(x_valid_perc, 0), '%')\n",
    "print('Size of test x set:             ', x_test.shape)\n",
    "print('Percentage of test set x:       ', round(x_test_perc, 0), '%')\n",
    "print('Size of training y set:         ', y_train.shape)\n",
    "print('Percentage of training set y:   ', round(y_train_perc, 0), '%')\n",
    "print('Size of validation y set:       ', y_valid.shape)\n",
    "print('Percentage of validation set y: ', round(y_valid_perc, 0), '%')\n",
    "print('Size of test y set:             ', y_test.shape)\n",
    "print('Percentage of test set y:       ', round(y_test_perc, 0), '%')\n"
   ]
  },
  {
   "cell_type": "code",
   "execution_count": 762,
   "metadata": {},
   "outputs": [],
   "source": [
    "x_train = torch.tensor(x_train).type(torch.FloatTensor)\n",
    "x_valid = torch.tensor(x_valid).type(torch.FloatTensor)\n",
    "x_test = torch.tensor(x_test).type(torch.FloatTensor)\n",
    "\n",
    "y_train = torch.tensor(y_train).type(torch.LongTensor)\n",
    "y_valid = torch.tensor(y_valid).type(torch.LongTensor)\n",
    "y_test = torch.tensor(y_test).type(torch.LongTensor)"
   ]
  },
  {
   "cell_type": "code",
   "execution_count": 763,
   "metadata": {},
   "outputs": [],
   "source": [
    "#Define dataset class\n",
    "class Data(Dataset):\n",
    "    def __init__(self, sets):\n",
    "        if sets == 'train':\n",
    "            self.x = x_train\n",
    "            self.y = y_train\n",
    "            self.len = len(y_train)\n",
    "        elif sets == 'valid':\n",
    "            self.x = x_valid\n",
    "            self.y = y_valid\n",
    "            self.len = len(y_valid)\n",
    "        else:\n",
    "            self.x = x_test\n",
    "            self.y = y_test\n",
    "            self.len = len(y_test)\n",
    "    def __getitem__(self, index):\n",
    "        return self.x[index], self.y[index]\n",
    "    def __len__(self):\n",
    "        return self.len"
   ]
  },
  {
   "cell_type": "code",
   "execution_count": 764,
   "metadata": {},
   "outputs": [],
   "source": [
    "train_set = Data(sets = 'train')\n",
    "valid_set = Data(sets = 'valid')\n",
    "test_set = Data(sets = 'test')"
   ]
  },
  {
   "cell_type": "code",
   "execution_count": 765,
   "metadata": {},
   "outputs": [],
   "source": [
    "#Creating the function to train models\n",
    "def train(model, criterion, train_loader, valid_set, optimizer, epochs):\n",
    "    cost = {'t_loss': [], 'v_loss': []}  \n",
    "    i = 0\n",
    "    for epoch in range(epochs):\n",
    "        model.train()\n",
    "        \n",
    "        for i, (x, y) in enumerate(train_loader):\n",
    "            optimizer.zero_grad()\n",
    "            z = model(x)\n",
    "            loss = criterion(z, y)\n",
    "            loss.backward()\n",
    "            optimizer.step()\n",
    "        cost['t_loss'].append(loss.data.item())\n",
    "        model.eval()\n",
    "        cost['v_loss'].append(criterion(model(valid_set.x), valid_set.y).item())\n",
    "    \n",
    "    return cost"
   ]
  },
  {
   "cell_type": "code",
   "execution_count": 766,
   "metadata": {},
   "outputs": [],
   "source": [
    "#Define softmax classifier class\n",
    "class SoftMax(nn.Module):\n",
    "    \n",
    "    #Constructor\n",
    "    def __init__(self, input_size, output_size):\n",
    "        super(SoftMax, self).__init__()\n",
    "        self.linear = nn.Linear(input_size, output_size)\n",
    "        \n",
    "    #Prediction\n",
    "    def forward(self, x):\n",
    "        z = self.linear(x)\n",
    "        return z"
   ]
  },
  {
   "cell_type": "markdown",
   "metadata": {},
   "source": [
    "**In following models input size is 5 and output size is 3, then learning rates were selected by inserting different values (0.1, 0.01, 0.001,...) and observing the best result, next as batch size I took standart batch size 32, and finally I took 1000 epochs for \n",
    "better resutlts.**"
   ]
  },
  {
   "cell_type": "code",
   "execution_count": 790,
   "metadata": {},
   "outputs": [],
   "source": [
    "model1 = SoftMax(input_size = 5, output_size = 3)\n",
    "optimizer1 = torch.optim.SGD(model1.parameters(), lr = 0.001)\n",
    "criterion1 = torch.nn.CrossEntropyLoss()\n",
    "train_loader1 = DataLoader(dataset = train_set, batch_size = 32)"
   ]
  },
  {
   "cell_type": "code",
   "execution_count": 791,
   "metadata": {},
   "outputs": [],
   "source": [
    "model1_softmax = train(model1, criterion = criterion1, train_loader = train_loader1, valid_set = valid_set, optimizer = optimizer1, \n",
    "                  epochs = 1000)"
   ]
  },
  {
   "cell_type": "code",
   "execution_count": 792,
   "metadata": {},
   "outputs": [],
   "source": [
    "#Creating the function to plot training and validation loss\n",
    "def plot(train_model):\n",
    "    plt.figure()\n",
    "    plt.plot(train_model['t_loss'], label = 'training_loss')\n",
    "    plt.plot(train_model['v_loss'], label = 'validation_loss')\n",
    "    plt.ylabel('cost')\n",
    "    plt.xlabel('epochs')   \n",
    "    plt.legend()\n",
    "    plt.show()"
   ]
  },
  {
   "cell_type": "code",
   "execution_count": 793,
   "metadata": {},
   "outputs": [
    {
     "data": {
      "image/png": "[encoded data removed]",
      "text/plain": [
       "<Figure size 432x288 with 1 Axes>"
      ]
     },
     "metadata": {},
     "output_type": "display_data"
    }
   ],
   "source": [
    "plot(model1_softmax)"
   ]
  },
  {
   "cell_type": "code",
   "execution_count": 794,
   "metadata": {},
   "outputs": [],
   "source": [
    "#Creating the function to calculate accuracy\n",
    "def accuracy1(model):\n",
    "  _, y_hat = torch.max(model(train_set.x), 1)\n",
    "  return (y_hat == train_set.y).numpy().mean()\n",
    "\n",
    "def accuracy2(model):\n",
    "  _, y_hat = torch.max(model(valid_set.x), 1)\n",
    "  return (y_hat == valid_set.y).numpy().mean()\n",
    "\n",
    "def accuracy3(model):\n",
    "  _, y_hat = torch.max(model(test_set.x), 1)\n",
    "  return (y_hat == test_set.y).numpy().mean()\n"
   ]
  },
  {
   "cell_type": "code",
   "execution_count": 795,
   "metadata": {},
   "outputs": [
    {
     "name": "stdout",
     "output_type": "stream",
     "text": [
      "Accuracy of SoftMax:\n",
      "Accuracy of train set:        0.7763157894736842\n",
      "Accuracy of validation set:   0.8070175438596491\n",
      "Accuracy of test set:         0.8275862068965517\n"
     ]
    }
   ],
   "source": [
    "print('Accuracy of SoftMax:')\n",
    "print('Accuracy of train set:       ', accuracy1(model1))\n",
    "print('Accuracy of validation set:  ', accuracy2(model1))\n",
    "print('Accuracy of test set:        ', accuracy3(model1))"
   ]
  },
  {
   "cell_type": "code",
   "execution_count": 773,
   "metadata": {},
   "outputs": [],
   "source": [
    "model2 = torch.nn.Sequential(torch.nn.Linear(5, 1), torch.nn.Tanh(), torch.nn.Linear(1, 3), torch.nn.Sigmoid())\n",
    "optimizer2 = torch.optim.SGD(model2.parameters(), lr = 0.01)\n",
    "criterion2 = torch.nn.CrossEntropyLoss()\n",
    "train_loader2 = DataLoader(dataset = train_set, batch_size = 32)"
   ]
  },
  {
   "cell_type": "code",
   "execution_count": 774,
   "metadata": {},
   "outputs": [],
   "source": [
    "model2_shallow = train(model2, criterion = criterion2, train_loader = train_loader2, valid_set = valid_set, optimizer = optimizer2, \n",
    "                       epochs = 1000)"
   ]
  },
  {
   "cell_type": "code",
   "execution_count": 775,
   "metadata": {},
   "outputs": [
    {
     "data": {
      "image/png": "[encoded data removed]",
      "text/plain": [
       "<Figure size 432x288 with 1 Axes>"
      ]
     },
     "metadata": {},
     "output_type": "display_data"
    }
   ],
   "source": [
    "plot(model2_shallow)"
   ]
  },
  {
   "cell_type": "code",
   "execution_count": 776,
   "metadata": {},
   "outputs": [
    {
     "name": "stdout",
     "output_type": "stream",
     "text": [
      "Accuracy of Shallow Neural Network:\n",
      "Accuracy of train set:        0.7631578947368421\n",
      "Accuracy of validation set:   0.8070175438596491\n",
      "Accuracy of test set:         0.8275862068965517\n"
     ]
    }
   ],
   "source": [
    "print('Accuracy of Shallow Neural Network:')\n",
    "print('Accuracy of train set:       ', accuracy1(model2))\n",
    "print('Accuracy of validation set:  ', accuracy2(model2))\n",
    "print('Accuracy of test set:        ', accuracy3(model2))"
   ]
  },
  {
   "cell_type": "code",
   "execution_count": 784,
   "metadata": {},
   "outputs": [],
   "source": [
    "#Create deep neural network class\n",
    "class DeepNeuralNetwork(torch.nn.Module):\n",
    "    def __init__(self, layers, p):\n",
    "        super(DeepNeuralNetwork, self).__init__()\n",
    "        self.hidden = torch.nn.ModuleList()\n",
    "        self.drop = torch.nn.Dropout(p = p)\n",
    "        self.BatchNorm = list()\n",
    "        for input_size, output_size in zip(layers, layers[1:]):\n",
    "            linear = torch.nn.Linear(input_size, output_size)\n",
    "            torch.nn.init.kaiming_uniform_(linear.weight, nonlinearity='leaky_relu')\n",
    "            self.hidden.append(linear)\n",
    "            self.BatchNorm.append(torch.nn.BatchNorm1d(output_size))\n",
    "\n",
    "    def forward(self, activation):\n",
    "        L = len(self.hidden)\n",
    "        for (l, linear_transform) in zip(range(L), self.hidden):\n",
    "            if l < L - 1:\n",
    "                activation = self.BatchNorm[l](torch.nn.functional.leaky_relu(self.drop(linear_transform(activation))))\n",
    "            else:\n",
    "                activation = linear_transform(activation)\n",
    "        return activation"
   ]
  },
  {
   "cell_type": "code",
   "execution_count": 785,
   "metadata": {},
   "outputs": [],
   "source": [
    "model3 = DeepNeuralNetwork([5, 4, 4, 3], p = 0.4)\n",
    "optimizer3 = torch.optim.Adam(model3.parameters(), lr = 0.001)\n",
    "criterion3 = torch.nn.CrossEntropyLoss()\n",
    "train_loader3 = DataLoader(dataset = train_set, batch_size = 32)"
   ]
  },
  {
   "cell_type": "code",
   "execution_count": 786,
   "metadata": {},
   "outputs": [],
   "source": [
    "model3_deep = train(model3, criterion = criterion3, train_loader = train_loader3, valid_set = valid_set, optimizer = optimizer3, \n",
    "                       epochs = 1000)"
   ]
  },
  {
   "cell_type": "code",
   "execution_count": 787,
   "metadata": {},
   "outputs": [
    {
     "data": {
      "image/png": "[encoded data removed]",
      "text/plain": [
       "<Figure size 432x288 with 1 Axes>"
      ]
     },
     "metadata": {},
     "output_type": "display_data"
    }
   ],
   "source": [
    "plot(model3_deep)"
   ]
  },
  {
   "cell_type": "code",
   "execution_count": 788,
   "metadata": {},
   "outputs": [
    {
     "name": "stdout",
     "output_type": "stream",
     "text": [
      "Accuracy of Deep Neural Network:\n",
      "Accuracy of train set:        0.7807017543859649\n",
      "Accuracy of validation set:   0.8070175438596491\n",
      "Accuracy of test set:         0.8620689655172413\n"
     ]
    }
   ],
   "source": [
    "print('Accuracy of Deep Neural Network:')\n",
    "print('Accuracy of train set:       ', accuracy1(model3))\n",
    "print('Accuracy of validation set:  ', accuracy2(model3))\n",
    "print('Accuracy of test set:        ', accuracy3(model3))"
   ]
  },
  {
   "cell_type": "code",
   "execution_count": 796,
   "metadata": {},
   "outputs": [
    {
     "data": {
      "text/html": [
       "<div>\n",
       "<style scoped>\n",
       "    .dataframe tbody tr th:only-of-type {\n",
       "        vertical-align: middle;\n",
       "    }\n",
       "\n",
       "    .dataframe tbody tr th {\n",
       "        vertical-align: top;\n",
       "    }\n",
       "\n",
       "    .dataframe thead th {\n",
       "        text-align: right;\n",
       "    }\n",
       "</style>\n",
       "<table border=\"1\" class=\"dataframe\">\n",
       "  <thead>\n",
       "    <tr style=\"text-align: right;\">\n",
       "      <th></th>\n",
       "      <th>SoftMax</th>\n",
       "      <th>Shallow Neural Network</th>\n",
       "      <th>Deep Neural Network</th>\n",
       "    </tr>\n",
       "  </thead>\n",
       "  <tbody>\n",
       "    <tr>\n",
       "      <th>Training</th>\n",
       "      <td>0.776316</td>\n",
       "      <td>0.763158</td>\n",
       "      <td>0.780702</td>\n",
       "    </tr>\n",
       "    <tr>\n",
       "      <th>Validation</th>\n",
       "      <td>0.807018</td>\n",
       "      <td>0.807018</td>\n",
       "      <td>0.807018</td>\n",
       "    </tr>\n",
       "    <tr>\n",
       "      <th>Test</th>\n",
       "      <td>0.827586</td>\n",
       "      <td>0.827586</td>\n",
       "      <td>0.862069</td>\n",
       "    </tr>\n",
       "  </tbody>\n",
       "</table>\n",
       "</div>"
      ],
      "text/plain": [
       "             SoftMax  Shallow Neural Network  Deep Neural Network\n",
       "Training    0.776316                0.763158             0.780702\n",
       "Validation  0.807018                0.807018             0.807018\n",
       "Test        0.827586                0.827586             0.862069"
      ]
     },
     "execution_count": 796,
     "metadata": {},
     "output_type": "execute_result"
    }
   ],
   "source": [
    "pd.DataFrame(data = {'SoftMax': [accuracy1(model1), accuracy2(model1), accuracy3(model1)],\n",
    "                     'Shallow Neural Network': [accuracy1(model2), accuracy2(model2), accuracy3(model2)],\n",
    "                     'Deep Neural Network': [accuracy1(model3), accuracy2(model3), accuracy3(model3)]},\n",
    "             index = ['Training', 'Validation', 'Test'])"
   ]
  },
  {
   "cell_type": "code",
   "execution_count": 797,
   "metadata": {},
   "outputs": [
    {
     "data": {
      "image/png": "[encoded data removed]",
      "text/plain": [
       "<Figure size 432x288 with 1 Axes>"
      ]
     },
     "metadata": {},
     "output_type": "display_data"
    }
   ],
   "source": [
    "barWidth = 0.2\n",
    " \n",
    "bars1 = [accuracy1(model1), accuracy1(model2), accuracy1(model3)]\n",
    "bars2 = [accuracy2(model1), accuracy2(model2), accuracy2(model3)]\n",
    "bars3 = [accuracy3(model1), accuracy3(model2), accuracy3(model3)]\n",
    "\n",
    "r1 = np.arange(len(bars1))\n",
    "r2 = [x + barWidth for x in r1]\n",
    "r3 = [x + barWidth for x in r2]\n",
    " \n",
    "plt.bar(r1, bars1, color='b', width=barWidth, edgecolor='white', label='Training')\n",
    "plt.bar(r2, bars2, color='g', width=barWidth, edgecolor='white', label='Validation')\n",
    "plt.bar(r3, bars3, color='r', width=barWidth, edgecolor='white', label='Test')\n",
    " \n",
    "plt.xlabel('group', fontweight='bold')\n",
    "plt.xticks([r + barWidth for r in range(len(bars1))], ['SoftMax', 'Shallow Neural Network', 'Deep Neural Network'])\n",
    "plt.legend()\n",
    "plt.show()\n"
   ]
  },
  {
   "cell_type": "markdown",
   "metadata": {},
   "source": [
    "# Conclusion\n",
    "\n",
    "From the results, we see that all three algorithms classify vacancies approximately equally, but results of Deep Neural Network model is slightly better.\n",
    "\n",
    "I cannot say that the results are excellent, since the accuracy is not very high, this can be explained by several factors. 1) The data may contain incorrect data, since they are filled in manually by different employers on the site. 2) It is also possible that the relationship between features is not very well. Also there may be additional factors."
   ]
  },
  {
   "cell_type": "markdown",
   "metadata": {},
   "source": [
    "### References\n",
    "\n",
    "The following resources were used to write the project, namely to understand some points, to select hyperparameters, to improve the performance of models, etc.\n",
    "\n",
    "<ul>\n",
    "<li>https://machinelearningmastery.com/improve-deep-learning-performance/</li>\n",
    "<li>https://jonathan-hui.medium.com/improve-deep-learning-models-performance-network-tuning-part-6-29bf90df6d2d</li>\n",
    "<li>https://www.coursera.org/learn/deep-neural-networks-with-pytorch/home/welcome</li>\n",
    "<li>https://www.heatonresearch.com/2017/06/01/hidden-layers.html</li>\n",
    "</ul>\n"
   ]
  },
  {
   "cell_type": "code",
   "execution_count": null,
   "metadata": {},
   "outputs": [],
   "source": []
  }
 ],
 "metadata": {
  "kernelspec": {
   "display_name": "Python 3",
   "language": "python",
   "name": "python3"
  },
  "language_info": {
   "codemirror_mode": {
    "name": "ipython",
    "version": 3
   },
   "file_extension": ".py",
   "mimetype": "text/x-python",
   "name": "python",
   "nbconvert_exporter": "python",
   "pygments_lexer": "ipython3",
   "version": "3.8.3"
  }
 },
 "nbformat": 4,
 "nbformat_minor": 4
}
