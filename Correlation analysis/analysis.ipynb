{
 "cells": [
  {
   "cell_type": "markdown",
   "metadata": {},
   "source": [
    "# Analysis of \"Analyst-statistician\" vacancies on Enbek.kz"
   ]
  },
  {
   "cell_type": "markdown",
   "metadata": {},
   "source": [
    "### Introduction\n",
    "In this project work vacancies were established. The data was collected from the state website Enbek.kz via parsing method. This is the portal of the electronic labor exchange. "
   ]
  },
  {
   "cell_type": "markdown",
   "metadata": {},
   "source": [
    "### Research question \n",
    "##### According to the latest data from Enbek.kz for the current months of 2020, what is the average proposed salary for analysts-statisticians depending on 1) the region and 2) the required work experience?\n"
   ]
  },
  {
   "cell_type": "markdown",
   "metadata": {},
   "source": [
    "### Purposes of this project:\n",
    "\n",
    "•\tTo find required average salary for whole country and for each region and compare the results\n",
    "\n",
    "•\tTo evaluate correlation analysis between variables: proposed salary and required work experience"
   ]
  },
  {
   "cell_type": "markdown",
   "metadata": {},
   "source": [
    "The necessary vacancies were found and displayed through the filters. Namely, the vacancies \"Analyst-statistician\" were selected. I parsed first 9 pages, that is 89 vacancies. "
   ]
  },
  {
   "cell_type": "markdown",
   "metadata": {},
   "source": [
    "Selected variables: job title, additional job description, industry, company name, salary, required work experience, education level, location and date."
   ]
  },
  {
   "cell_type": "code",
   "execution_count": 5,
   "metadata": {},
   "outputs": [],
   "source": [
    "#importing necessary libraries\n",
    "import csv\n",
    "import pandas as pd\n",
    "import numpy as np\n",
    "import matplotlib \n",
    "import seaborn as sns\n",
    "from scipy.stats import pearsonr\n",
    "from scipy.stats import spearmanr"
   ]
  },
  {
   "cell_type": "code",
   "execution_count": 18,
   "metadata": {},
   "outputs": [
    {
     "data": {
      "text/html": [
       "<div>\n",
       "<style scoped>\n",
       "    .dataframe tbody tr th:only-of-type {\n",
       "        vertical-align: middle;\n",
       "    }\n",
       "\n",
       "    .dataframe tbody tr th {\n",
       "        vertical-align: top;\n",
       "    }\n",
       "\n",
       "    .dataframe thead th {\n",
       "        text-align: right;\n",
       "    }\n",
       "</style>\n",
       "<table border=\"1\" class=\"dataframe\">\n",
       "  <thead>\n",
       "    <tr style=\"text-align: right;\">\n",
       "      <th></th>\n",
       "      <th>Vacancy</th>\n",
       "      <th>Vacancy_Description</th>\n",
       "      <th>Industry</th>\n",
       "      <th>Company</th>\n",
       "      <th>Salary</th>\n",
       "      <th>Experience</th>\n",
       "      <th>Education</th>\n",
       "      <th>Location</th>\n",
       "      <th>Working_schedule</th>\n",
       "      <th>Date</th>\n",
       "    </tr>\n",
       "  </thead>\n",
       "  <tbody>\n",
       "    <tr>\n",
       "      <th>0</th>\n",
       "      <td>Статистик-аналитик</td>\n",
       "      <td>менеджер отдела статистики и анализа данных об...</td>\n",
       "      <td>Образование, наука Математика</td>\n",
       "      <td>Филиал \"Центр педагогических измерений\" Автоно...</td>\n",
       "      <td>от 214 000 тг.</td>\n",
       "      <td>2 года стажа</td>\n",
       "      <td>послевузовское</td>\n",
       "      <td>г. НУР-СУЛТАН / район Есиль</td>\n",
       "      <td>полный рабочий день</td>\n",
       "      <td>22.09.2020</td>\n",
       "    </tr>\n",
       "    <tr>\n",
       "      <th>1</th>\n",
       "      <td>Врач-статистик</td>\n",
       "      <td>Врач статистик-аналитик</td>\n",
       "      <td>Медицина, фармацевтика Медицина, фармацевтика</td>\n",
       "      <td>Товарищество с ограниченной ответственностью \"...</td>\n",
       "      <td>от 100 000 тг.</td>\n",
       "      <td>1 год стажа</td>\n",
       "      <td>высшее</td>\n",
       "      <td>КАРАГАНДИНСКАЯ ОБЛАСТЬ / г. Караганда</td>\n",
       "      <td>полный рабочий день</td>\n",
       "      <td>08.10.2020</td>\n",
       "    </tr>\n",
       "    <tr>\n",
       "      <th>2</th>\n",
       "      <td>Статистик</td>\n",
       "      <td>-</td>\n",
       "      <td>Образование, наука Математика</td>\n",
       "      <td>КОММУНАЛЬНОЕ ГОСУДАРСТВЕННОЕ УЧРЕЖДЕНИЕ \"УПРАВ...</td>\n",
       "      <td>от 81 565 тг.</td>\n",
       "      <td>1 год стажа</td>\n",
       "      <td>высшее</td>\n",
       "      <td>АКМОЛИНСКАЯ ОБЛАСТЬ / Целиноградский район</td>\n",
       "      <td>полный рабочий день</td>\n",
       "      <td>21.09.2020</td>\n",
       "    </tr>\n",
       "    <tr>\n",
       "      <th>3</th>\n",
       "      <td>Аналитик</td>\n",
       "      <td>-</td>\n",
       "      <td>Консалтинг, стратегическое развитие Аналитика</td>\n",
       "      <td>ТОВАРИЩЕСТВО С ОГРАНИЧЕННОЙ ОТВЕТСТВЕННОСТЬЮ \"...</td>\n",
       "      <td>от 150 000 тг.</td>\n",
       "      <td>1 год стажа</td>\n",
       "      <td>высшее</td>\n",
       "      <td>г. НУР-СУЛТАН / район Есиль</td>\n",
       "      <td>полный рабочий день</td>\n",
       "      <td>23.09.2020</td>\n",
       "    </tr>\n",
       "    <tr>\n",
       "      <th>4</th>\n",
       "      <td>Аналитик</td>\n",
       "      <td>аналитик лаборатории исследования средств инфо...</td>\n",
       "      <td>Консалтинг, стратегическое развитие Аналитика</td>\n",
       "      <td>Республиканское государственное предприятие на...</td>\n",
       "      <td>от 100 000 тг.</td>\n",
       "      <td>3 года стажа</td>\n",
       "      <td>высшее</td>\n",
       "      <td>г. НУР-СУЛТАН / район Есиль</td>\n",
       "      <td>полный рабочий день</td>\n",
       "      <td>25.09.2020</td>\n",
       "    </tr>\n",
       "  </tbody>\n",
       "</table>\n",
       "</div>"
      ],
      "text/plain": [
       "              Vacancy                                Vacancy_Description  \\\n",
       "0  Статистик-аналитик  менеджер отдела статистики и анализа данных об...   \n",
       "1      Врач-статистик                            Врач статистик-аналитик   \n",
       "2           Статистик                                                  -   \n",
       "3            Аналитик                                                  -   \n",
       "4            Аналитик  аналитик лаборатории исследования средств инфо...   \n",
       "\n",
       "                                        Industry  \\\n",
       "0                  Образование, наука Математика   \n",
       "1  Медицина, фармацевтика Медицина, фармацевтика   \n",
       "2                  Образование, наука Математика   \n",
       "3  Консалтинг, стратегическое развитие Аналитика   \n",
       "4  Консалтинг, стратегическое развитие Аналитика   \n",
       "\n",
       "                                             Company          Salary  \\\n",
       "0  Филиал \"Центр педагогических измерений\" Автоно...  от 214 000 тг.   \n",
       "1  Товарищество с ограниченной ответственностью \"...  от 100 000 тг.   \n",
       "2  КОММУНАЛЬНОЕ ГОСУДАРСТВЕННОЕ УЧРЕЖДЕНИЕ \"УПРАВ...   от 81 565 тг.   \n",
       "3  ТОВАРИЩЕСТВО С ОГРАНИЧЕННОЙ ОТВЕТСТВЕННОСТЬЮ \"...  от 150 000 тг.   \n",
       "4  Республиканское государственное предприятие на...  от 100 000 тг.   \n",
       "\n",
       "     Experience       Education                                    Location  \\\n",
       "0  2 года стажа  послевузовское                 г. НУР-СУЛТАН / район Есиль   \n",
       "1   1 год стажа          высшее       КАРАГАНДИНСКАЯ ОБЛАСТЬ / г. Караганда   \n",
       "2   1 год стажа          высшее  АКМОЛИНСКАЯ ОБЛАСТЬ / Целиноградский район   \n",
       "3   1 год стажа          высшее                 г. НУР-СУЛТАН / район Есиль   \n",
       "4  3 года стажа          высшее                 г. НУР-СУЛТАН / район Есиль   \n",
       "\n",
       "      Working_schedule        Date  \n",
       "0  полный рабочий день  22.09.2020  \n",
       "1  полный рабочий день  08.10.2020  \n",
       "2  полный рабочий день  21.09.2020  \n",
       "3  полный рабочий день  23.09.2020  \n",
       "4  полный рабочий день  25.09.2020  "
      ]
     },
     "execution_count": 18,
     "metadata": {},
     "output_type": "execute_result"
    }
   ],
   "source": [
    "#importing dataset from csv file\n",
    "df = pd.read_csv('data1.csv')\n",
    "df['Vacancy_Description'] = df['Vacancy_Description'].replace(np.nan, '-')\n",
    "df.head()"
   ]
  },
  {
   "cell_type": "code",
   "execution_count": 19,
   "metadata": {},
   "outputs": [
    {
     "data": {
      "text/html": [
       "<div>\n",
       "<style scoped>\n",
       "    .dataframe tbody tr th:only-of-type {\n",
       "        vertical-align: middle;\n",
       "    }\n",
       "\n",
       "    .dataframe tbody tr th {\n",
       "        vertical-align: top;\n",
       "    }\n",
       "\n",
       "    .dataframe thead th {\n",
       "        text-align: right;\n",
       "    }\n",
       "</style>\n",
       "<table border=\"1\" class=\"dataframe\">\n",
       "  <thead>\n",
       "    <tr style=\"text-align: right;\">\n",
       "      <th></th>\n",
       "      <th>Vacancy</th>\n",
       "      <th>Vacancy_Description</th>\n",
       "      <th>Industry</th>\n",
       "      <th>Company</th>\n",
       "      <th>Salary</th>\n",
       "      <th>Experience</th>\n",
       "      <th>Education</th>\n",
       "      <th>Location</th>\n",
       "      <th>Working_schedule</th>\n",
       "      <th>Date</th>\n",
       "      <th>Salary_int</th>\n",
       "      <th>Experience_int</th>\n",
       "    </tr>\n",
       "  </thead>\n",
       "  <tbody>\n",
       "    <tr>\n",
       "      <th>0</th>\n",
       "      <td>Статистик-аналитик</td>\n",
       "      <td>менеджер отдела статистики и анализа данных об...</td>\n",
       "      <td>Образование, наука Математика</td>\n",
       "      <td>Филиал \"Центр педагогических измерений\" Автоно...</td>\n",
       "      <td>от214000тг.</td>\n",
       "      <td>2 года стажа</td>\n",
       "      <td>послевузовское</td>\n",
       "      <td>АКМОЛИНСКАЯ_ОБЛ</td>\n",
       "      <td>полный рабочий день</td>\n",
       "      <td>22.09.2020</td>\n",
       "      <td>214000</td>\n",
       "      <td>2</td>\n",
       "    </tr>\n",
       "    <tr>\n",
       "      <th>1</th>\n",
       "      <td>Врач-статистик</td>\n",
       "      <td>Врач статистик-аналитик</td>\n",
       "      <td>Медицина, фармацевтика Медицина, фармацевтика</td>\n",
       "      <td>Товарищество с ограниченной ответственностью \"...</td>\n",
       "      <td>от100000тг.</td>\n",
       "      <td>1 год стажа</td>\n",
       "      <td>высшее</td>\n",
       "      <td>КАРАГАНДИНСКАЯ_ОБЛ</td>\n",
       "      <td>полный рабочий день</td>\n",
       "      <td>08.10.2020</td>\n",
       "      <td>100000</td>\n",
       "      <td>1</td>\n",
       "    </tr>\n",
       "    <tr>\n",
       "      <th>2</th>\n",
       "      <td>Статистик</td>\n",
       "      <td>-</td>\n",
       "      <td>Образование, наука Математика</td>\n",
       "      <td>КОММУНАЛЬНОЕ ГОСУДАРСТВЕННОЕ УЧРЕЖДЕНИЕ \"УПРАВ...</td>\n",
       "      <td>от81565тг.</td>\n",
       "      <td>1 год стажа</td>\n",
       "      <td>высшее</td>\n",
       "      <td>АКМОЛИНСКАЯ_ОБЛ</td>\n",
       "      <td>полный рабочий день</td>\n",
       "      <td>21.09.2020</td>\n",
       "      <td>81565</td>\n",
       "      <td>1</td>\n",
       "    </tr>\n",
       "    <tr>\n",
       "      <th>3</th>\n",
       "      <td>Аналитик</td>\n",
       "      <td>-</td>\n",
       "      <td>Консалтинг, стратегическое развитие Аналитика</td>\n",
       "      <td>ТОВАРИЩЕСТВО С ОГРАНИЧЕННОЙ ОТВЕТСТВЕННОСТЬЮ \"...</td>\n",
       "      <td>от150000тг.</td>\n",
       "      <td>1 год стажа</td>\n",
       "      <td>высшее</td>\n",
       "      <td>АКМОЛИНСКАЯ_ОБЛ</td>\n",
       "      <td>полный рабочий день</td>\n",
       "      <td>23.09.2020</td>\n",
       "      <td>150000</td>\n",
       "      <td>1</td>\n",
       "    </tr>\n",
       "    <tr>\n",
       "      <th>4</th>\n",
       "      <td>Аналитик</td>\n",
       "      <td>аналитик лаборатории исследования средств инфо...</td>\n",
       "      <td>Консалтинг, стратегическое развитие Аналитика</td>\n",
       "      <td>Республиканское государственное предприятие на...</td>\n",
       "      <td>от100000тг.</td>\n",
       "      <td>3 года стажа</td>\n",
       "      <td>высшее</td>\n",
       "      <td>АКМОЛИНСКАЯ_ОБЛ</td>\n",
       "      <td>полный рабочий день</td>\n",
       "      <td>25.09.2020</td>\n",
       "      <td>100000</td>\n",
       "      <td>3</td>\n",
       "    </tr>\n",
       "  </tbody>\n",
       "</table>\n",
       "</div>"
      ],
      "text/plain": [
       "              Vacancy                                Vacancy_Description  \\\n",
       "0  Статистик-аналитик  менеджер отдела статистики и анализа данных об...   \n",
       "1      Врач-статистик                            Врач статистик-аналитик   \n",
       "2           Статистик                                                  -   \n",
       "3            Аналитик                                                  -   \n",
       "4            Аналитик  аналитик лаборатории исследования средств инфо...   \n",
       "\n",
       "                                        Industry  \\\n",
       "0                  Образование, наука Математика   \n",
       "1  Медицина, фармацевтика Медицина, фармацевтика   \n",
       "2                  Образование, наука Математика   \n",
       "3  Консалтинг, стратегическое развитие Аналитика   \n",
       "4  Консалтинг, стратегическое развитие Аналитика   \n",
       "\n",
       "                                             Company       Salary  \\\n",
       "0  Филиал \"Центр педагогических измерений\" Автоно...  от214000тг.   \n",
       "1  Товарищество с ограниченной ответственностью \"...  от100000тг.   \n",
       "2  КОММУНАЛЬНОЕ ГОСУДАРСТВЕННОЕ УЧРЕЖДЕНИЕ \"УПРАВ...   от81565тг.   \n",
       "3  ТОВАРИЩЕСТВО С ОГРАНИЧЕННОЙ ОТВЕТСТВЕННОСТЬЮ \"...  от150000тг.   \n",
       "4  Республиканское государственное предприятие на...  от100000тг.   \n",
       "\n",
       "     Experience       Education            Location     Working_schedule  \\\n",
       "0  2 года стажа  послевузовское     АКМОЛИНСКАЯ_ОБЛ  полный рабочий день   \n",
       "1   1 год стажа          высшее  КАРАГАНДИНСКАЯ_ОБЛ  полный рабочий день   \n",
       "2   1 год стажа          высшее     АКМОЛИНСКАЯ_ОБЛ  полный рабочий день   \n",
       "3   1 год стажа          высшее     АКМОЛИНСКАЯ_ОБЛ  полный рабочий день   \n",
       "4  3 года стажа          высшее     АКМОЛИНСКАЯ_ОБЛ  полный рабочий день   \n",
       "\n",
       "         Date  Salary_int  Experience_int  \n",
       "0  22.09.2020      214000               2  \n",
       "1  08.10.2020      100000               1  \n",
       "2  21.09.2020       81565               1  \n",
       "3  23.09.2020      150000               1  \n",
       "4  25.09.2020      100000               3  "
      ]
     },
     "execution_count": 19,
     "metadata": {},
     "output_type": "execute_result"
    }
   ],
   "source": [
    "#Extracting only integer part from the 'Salary' column and saving to new column 'Salary_int'\n",
    "df.Salary = df.Salary.str.replace(' ', '')\n",
    "sal = df['Salary'].str.extract('(\\d+)').astype(int) \n",
    "df['Salary_int'] = sal\n",
    "\n",
    "#Some replacements in columns 'Experience' and 'Location'\n",
    "df['Experience_int'] = df.Experience.replace({\"1 год стажа\": 1, \"2 года стажа\": 2, \"3 года стажа\": 3, \"4 года стажа\": 4, \"5 лет стажа\": 5, \"Без опыта работы\": 0})\n",
    "\n",
    "df['Location'] = df['Location'].str.upper()\n",
    "df.loc[df['Location'].str.contains('НУР-СУЛТАН'), 'Location'] = 'АКМОЛИНСКАЯ_ОБЛ'\n",
    "df.loc[df['Location'].str.contains('АЛМАТЫ'), 'Location'] = 'АЛМАТИНСКАЯ_ОБЛ'\n",
    "df.loc[df['Location'].str.contains('КАРАГАНДА'), 'Location'] = 'КАРАГАНДИНСКАЯ_ОБЛ'\n",
    "df.loc[df['Location'].str.contains('АКТОБЕ'), 'Location'] = 'АКТЮБИНСКАЯ_ОБЛ'\n",
    "df.loc[df['Location'].str.contains('АТЫРАУ'), 'Location'] = 'АТЫРАУСКАЯ_ОБЛ'\n",
    "df.loc[df['Location'].str.contains('УРАЛЬСК'), 'Location'] = 'ВКО'\n",
    "df.loc[df['Location'].str.contains('ТАРАЗ'), 'Location'] = 'ЖАМБЫЛСКАЯ_ОБЛ'\n",
    "df.loc[df['Location'].str.contains('ШЫМКЕНТ'), 'Location'] = 'ТУРКЕСТАНСКАЯ_ОБЛ'\n",
    "df.loc[df['Location'].str.contains('КЫЗЫЛОРДА'), 'Location'] = 'КЫЗЫЛОРДИНСКАЯ_ОБЛ'\n",
    "df.loc[df['Location'].str.contains('ТУРКЕСТАН'), 'Location'] = 'ТУРКЕСТАНСКАЯ_ОБЛ'\n",
    "df.loc[df['Location'].str.contains('КОСТАНАЙ'), 'Location'] = 'КОСТАНАЙСКАЯ_ОБЛ'\n",
    "df.loc[df['Location'].str.contains('КОКШЕТАУ'), 'Location'] = 'АКМОЛИНСКАЯ_ОБЛ'\n",
    "df.loc[df['Location'].str.contains('ТЕМИРТАУ'), 'Location'] = 'КАРАГАНДИНСКАЯ_ОБЛ'\n",
    "df.loc[df['Location'].str.contains('АКМОЛИНСКАЯ'), 'Location'] = 'АКМОЛИНСКАЯ_ОБЛ'\n",
    "df.loc[df['Location'].str.contains('В-КАЗАХСТАНСКАЯ'), 'Location'] = 'ВКО'\n",
    "df.loc[df['Location'].str.contains('МАНГИСТАУСКАЯ'), 'Location'] = 'МАНГИСТАУСКАЯ_ОБЛ'\n",
    "df.loc[df['Location'].str.contains('З-КАЗАХСТАНСКАЯ'), 'Location'] = 'ЗКО'\n",
    "df.loc[df['Location'].str.contains('С-КАЗАХСТАНСКАЯ'), 'Location'] = 'CКО'\n",
    "df.loc[df['Location'].str.contains('КАРАГАНДИНСКАЯ'), 'Location'] = 'КАРАГАНДИНСКАЯ_ОБЛ'\n",
    "df.loc[df['Location'].str.contains('АЛМАТИНСКАЯ'), 'Location'] = 'АЛМАТИНСКАЯ_ОБЛ'\n",
    "df.loc[df['Location'].str.contains('ПАВЛОДАРСКАЯ'), 'Location'] = 'ПАВЛОДАРСКАЯ_ОБЛ'\n",
    "df.loc[df['Location'].str.contains('РЕСПУБЛИКА'), 'Location'] = 'АКМОЛИНСКАЯ_ОБЛ'\n",
    "df.loc[df['Location'].str.contains('ЖАМБЫЛСКАЯ'), 'Location'] = 'ЖАМБЫЛСКАЯ_ОБЛ'\n",
    "df.loc[df['Location'].str.contains('КЫЗЫЛОРДИНСКАЯ'), 'Location'] = 'КЫЗЫЛОРДИНСКАЯ_ОБЛ'\n",
    "\n",
    "df.head()\n"
   ]
  },
  {
   "cell_type": "code",
   "execution_count": 34,
   "metadata": {},
   "outputs": [
    {
     "data": {
      "text/plain": [
       "count        89.0\n",
       "mean     109247.8\n",
       "std       62195.5\n",
       "min       42500.0\n",
       "25%       68522.0\n",
       "50%      100000.0\n",
       "75%      126000.0\n",
       "max      300000.0\n",
       "Name: Salary_int, dtype: float64"
      ]
     },
     "execution_count": 34,
     "metadata": {},
     "output_type": "execute_result"
    }
   ],
   "source": [
    "#Firstly look through at salary across the country\n",
    "df.Salary_int.dropna().describe().round(1)"
   ]
  },
  {
   "cell_type": "code",
   "execution_count": 35,
   "metadata": {},
   "outputs": [
    {
     "data": {
      "text/plain": [
       "<matplotlib.axes._subplots.AxesSubplot at 0x1069ec550>"
      ]
     },
     "execution_count": 35,
     "metadata": {},
     "output_type": "execute_result"
    },
    {
     "data": {
      "image/png": "[encoded data removed]",
      "text/plain": [
       "<Figure size 432x288 with 1 Axes>"
      ]
     },
     "metadata": {
      "needs_background": "light"
     },
     "output_type": "display_data"
    }
   ],
   "source": [
    "sns.distplot(df.Salary_int.dropna())"
   ]
  },
  {
   "cell_type": "code",
   "execution_count": 104,
   "metadata": {},
   "outputs": [
    {
     "data": {
      "text/html": [
       "<div>\n",
       "<style scoped>\n",
       "    .dataframe tbody tr th:only-of-type {\n",
       "        vertical-align: middle;\n",
       "    }\n",
       "\n",
       "    .dataframe tbody tr th {\n",
       "        vertical-align: top;\n",
       "    }\n",
       "\n",
       "    .dataframe thead th {\n",
       "        text-align: right;\n",
       "    }\n",
       "</style>\n",
       "<table border=\"1\" class=\"dataframe\">\n",
       "  <thead>\n",
       "    <tr style=\"text-align: right;\">\n",
       "      <th>Salary_int_g</th>\n",
       "      <th>(0.0, 109247.798]</th>\n",
       "      <th>(109247.798, 300000.0]</th>\n",
       "    </tr>\n",
       "    <tr>\n",
       "      <th>Location</th>\n",
       "      <th></th>\n",
       "      <th></th>\n",
       "    </tr>\n",
       "  </thead>\n",
       "  <tbody>\n",
       "    <tr>\n",
       "      <th>CКО</th>\n",
       "      <td>0.000000</td>\n",
       "      <td>1.000000</td>\n",
       "    </tr>\n",
       "    <tr>\n",
       "      <th>АКМОЛИНСКАЯ_ОБЛ</th>\n",
       "      <td>0.722222</td>\n",
       "      <td>0.277778</td>\n",
       "    </tr>\n",
       "    <tr>\n",
       "      <th>АКТЮБИНСКАЯ_ОБЛ</th>\n",
       "      <td>1.000000</td>\n",
       "      <td>0.000000</td>\n",
       "    </tr>\n",
       "    <tr>\n",
       "      <th>АЛМАТИНСКАЯ_ОБЛ</th>\n",
       "      <td>0.600000</td>\n",
       "      <td>0.400000</td>\n",
       "    </tr>\n",
       "    <tr>\n",
       "      <th>АТЫРАУСКАЯ_ОБЛ</th>\n",
       "      <td>0.666667</td>\n",
       "      <td>0.333333</td>\n",
       "    </tr>\n",
       "    <tr>\n",
       "      <th>ВКО</th>\n",
       "      <td>0.600000</td>\n",
       "      <td>0.400000</td>\n",
       "    </tr>\n",
       "    <tr>\n",
       "      <th>ЖАМБЫЛСКАЯ_ОБЛ</th>\n",
       "      <td>0.600000</td>\n",
       "      <td>0.400000</td>\n",
       "    </tr>\n",
       "    <tr>\n",
       "      <th>ЗКО</th>\n",
       "      <td>0.750000</td>\n",
       "      <td>0.250000</td>\n",
       "    </tr>\n",
       "    <tr>\n",
       "      <th>КАРАГАНДИНСКАЯ_ОБЛ</th>\n",
       "      <td>0.714286</td>\n",
       "      <td>0.285714</td>\n",
       "    </tr>\n",
       "    <tr>\n",
       "      <th>КОСТАНАЙСКАЯ_ОБЛ</th>\n",
       "      <td>0.800000</td>\n",
       "      <td>0.200000</td>\n",
       "    </tr>\n",
       "    <tr>\n",
       "      <th>КЫЗЫЛОРДИНСКАЯ_ОБЛ</th>\n",
       "      <td>0.500000</td>\n",
       "      <td>0.500000</td>\n",
       "    </tr>\n",
       "    <tr>\n",
       "      <th>МАНГИСТАУСКАЯ_ОБЛ</th>\n",
       "      <td>1.000000</td>\n",
       "      <td>0.000000</td>\n",
       "    </tr>\n",
       "    <tr>\n",
       "      <th>ПАВЛОДАРСКАЯ_ОБЛ</th>\n",
       "      <td>0.500000</td>\n",
       "      <td>0.500000</td>\n",
       "    </tr>\n",
       "    <tr>\n",
       "      <th>ТУРКЕСТАНСКАЯ_ОБЛ</th>\n",
       "      <td>0.750000</td>\n",
       "      <td>0.250000</td>\n",
       "    </tr>\n",
       "    <tr>\n",
       "      <th>All</th>\n",
       "      <td>0.685393</td>\n",
       "      <td>0.314607</td>\n",
       "    </tr>\n",
       "  </tbody>\n",
       "</table>\n",
       "</div>"
      ],
      "text/plain": [
       "Salary_int_g        (0.0, 109247.798]  (109247.798, 300000.0]\n",
       "Location                                                     \n",
       "CКО                          0.000000                1.000000\n",
       "АКМОЛИНСКАЯ_ОБЛ              0.722222                0.277778\n",
       "АКТЮБИНСКАЯ_ОБЛ              1.000000                0.000000\n",
       "АЛМАТИНСКАЯ_ОБЛ              0.600000                0.400000\n",
       "АТЫРАУСКАЯ_ОБЛ               0.666667                0.333333\n",
       "ВКО                          0.600000                0.400000\n",
       "ЖАМБЫЛСКАЯ_ОБЛ               0.600000                0.400000\n",
       "ЗКО                          0.750000                0.250000\n",
       "КАРАГАНДИНСКАЯ_ОБЛ           0.714286                0.285714\n",
       "КОСТАНАЙСКАЯ_ОБЛ             0.800000                0.200000\n",
       "КЫЗЫЛОРДИНСКАЯ_ОБЛ           0.500000                0.500000\n",
       "МАНГИСТАУСКАЯ_ОБЛ            1.000000                0.000000\n",
       "ПАВЛОДАРСКАЯ_ОБЛ             0.500000                0.500000\n",
       "ТУРКЕСТАНСКАЯ_ОБЛ            0.750000                0.250000\n",
       "All                          0.685393                0.314607"
      ]
     },
     "execution_count": 104,
     "metadata": {},
     "output_type": "execute_result"
    }
   ],
   "source": [
    "#now divide average salaries of regions into two groups: less than average salary of whole country and more \n",
    "df[\"Salary_int_g\"] = pd.cut(df.Salary_int, [0, df.Salary_int.mean(), 300000])\n",
    "df1 = df[[\"Location\", \"Salary_int_g\"]].dropna()\n",
    "pd.crosstab(df1.Location, df1.Salary_int_g, margins=True, normalize='index')"
   ]
  },
  {
   "cell_type": "code",
   "execution_count": 70,
   "metadata": {},
   "outputs": [
    {
     "data": {
      "text/html": [
       "<div>\n",
       "<style scoped>\n",
       "    .dataframe tbody tr th:only-of-type {\n",
       "        vertical-align: middle;\n",
       "    }\n",
       "\n",
       "    .dataframe tbody tr th {\n",
       "        vertical-align: top;\n",
       "    }\n",
       "\n",
       "    .dataframe thead th {\n",
       "        text-align: right;\n",
       "    }\n",
       "</style>\n",
       "<table border=\"1\" class=\"dataframe\">\n",
       "  <thead>\n",
       "    <tr style=\"text-align: right;\">\n",
       "      <th></th>\n",
       "      <th>Salary_int</th>\n",
       "    </tr>\n",
       "    <tr>\n",
       "      <th>Location</th>\n",
       "      <th></th>\n",
       "    </tr>\n",
       "  </thead>\n",
       "  <tbody>\n",
       "    <tr>\n",
       "      <th>АТЫРАУСКАЯ_ОБЛ</th>\n",
       "      <td>68333.0</td>\n",
       "    </tr>\n",
       "    <tr>\n",
       "      <th>АКТЮБИНСКАЯ_ОБЛ</th>\n",
       "      <td>75000.0</td>\n",
       "    </tr>\n",
       "    <tr>\n",
       "      <th>КОСТАНАЙСКАЯ_ОБЛ</th>\n",
       "      <td>87000.0</td>\n",
       "    </tr>\n",
       "    <tr>\n",
       "      <th>МАНГИСТАУСКАЯ_ОБЛ</th>\n",
       "      <td>90000.0</td>\n",
       "    </tr>\n",
       "    <tr>\n",
       "      <th>ВКО</th>\n",
       "      <td>99782.0</td>\n",
       "    </tr>\n",
       "    <tr>\n",
       "      <th>КАРАГАНДИНСКАЯ_ОБЛ</th>\n",
       "      <td>99843.0</td>\n",
       "    </tr>\n",
       "    <tr>\n",
       "      <th>ЖАМБЫЛСКАЯ_ОБЛ</th>\n",
       "      <td>102387.0</td>\n",
       "    </tr>\n",
       "    <tr>\n",
       "      <th>ПАВЛОДАРСКАЯ_ОБЛ</th>\n",
       "      <td>103000.0</td>\n",
       "    </tr>\n",
       "    <tr>\n",
       "      <th>АКМОЛИНСКАЯ_ОБЛ</th>\n",
       "      <td>105941.0</td>\n",
       "    </tr>\n",
       "    <tr>\n",
       "      <th>ЗКО</th>\n",
       "      <td>112940.0</td>\n",
       "    </tr>\n",
       "    <tr>\n",
       "      <th>ТУРКЕСТАНСКАЯ_ОБЛ</th>\n",
       "      <td>127500.0</td>\n",
       "    </tr>\n",
       "    <tr>\n",
       "      <th>АЛМАТИНСКАЯ_ОБЛ</th>\n",
       "      <td>131669.0</td>\n",
       "    </tr>\n",
       "    <tr>\n",
       "      <th>КЫЗЫЛОРДИНСКАЯ_ОБЛ</th>\n",
       "      <td>142500.0</td>\n",
       "    </tr>\n",
       "    <tr>\n",
       "      <th>CКО</th>\n",
       "      <td>250000.0</td>\n",
       "    </tr>\n",
       "  </tbody>\n",
       "</table>\n",
       "</div>"
      ],
      "text/plain": [
       "                    Salary_int\n",
       "Location                      \n",
       "АТЫРАУСКАЯ_ОБЛ         68333.0\n",
       "АКТЮБИНСКАЯ_ОБЛ        75000.0\n",
       "КОСТАНАЙСКАЯ_ОБЛ       87000.0\n",
       "МАНГИСТАУСКАЯ_ОБЛ      90000.0\n",
       "ВКО                    99782.0\n",
       "КАРАГАНДИНСКАЯ_ОБЛ     99843.0\n",
       "ЖАМБЫЛСКАЯ_ОБЛ        102387.0\n",
       "ПАВЛОДАРСКАЯ_ОБЛ      103000.0\n",
       "АКМОЛИНСКАЯ_ОБЛ       105941.0\n",
       "ЗКО                   112940.0\n",
       "ТУРКЕСТАНСКАЯ_ОБЛ     127500.0\n",
       "АЛМАТИНСКАЯ_ОБЛ       131669.0\n",
       "КЫЗЫЛОРДИНСКАЯ_ОБЛ    142500.0\n",
       "CКО                   250000.0"
      ]
     },
     "execution_count": 70,
     "metadata": {},
     "output_type": "execute_result"
    }
   ],
   "source": [
    "df2 = df.groupby(\"Location\").agg({\"Salary_int\": np.mean}).round().sort_values(\"Salary_int\")\n",
    "df2"
   ]
  },
  {
   "cell_type": "code",
   "execution_count": 86,
   "metadata": {},
   "outputs": [
    {
     "data": {
      "text/plain": [
       "Location\n",
       "АТЫРАУСКАЯ_ОБЛ        False\n",
       "АКТЮБИНСКАЯ_ОБЛ       False\n",
       "КОСТАНАЙСКАЯ_ОБЛ      False\n",
       "МАНГИСТАУСКАЯ_ОБЛ     False\n",
       "ВКО                   False\n",
       "КАРАГАНДИНСКАЯ_ОБЛ    False\n",
       "ЖАМБЫЛСКАЯ_ОБЛ        False\n",
       "ПАВЛОДАРСКАЯ_ОБЛ      False\n",
       "АКМОЛИНСКАЯ_ОБЛ       False\n",
       "ЗКО                    True\n",
       "ТУРКЕСТАНСКАЯ_ОБЛ      True\n",
       "АЛМАТИНСКАЯ_ОБЛ        True\n",
       "КЫЗЫЛОРДИНСКАЯ_ОБЛ     True\n",
       "CКО                    True\n",
       "Name: Salary_int, dtype: bool"
      ]
     },
     "execution_count": 86,
     "metadata": {},
     "output_type": "execute_result"
    }
   ],
   "source": [
    "#get regions, where average salary is more than average salary of whole country \n",
    "average_whole = df.Salary_int.mean()\n",
    "more = df2[\"Salary_int\"] > average_whole\n",
    "more"
   ]
  },
  {
   "cell_type": "code",
   "execution_count": 79,
   "metadata": {},
   "outputs": [
    {
     "data": {
      "text/plain": [
       "Location\n",
       "АТЫРАУСКАЯ_ОБЛ         True\n",
       "АКТЮБИНСКАЯ_ОБЛ        True\n",
       "КОСТАНАЙСКАЯ_ОБЛ       True\n",
       "МАНГИСТАУСКАЯ_ОБЛ      True\n",
       "ВКО                    True\n",
       "КАРАГАНДИНСКАЯ_ОБЛ     True\n",
       "ЖАМБЫЛСКАЯ_ОБЛ         True\n",
       "ПАВЛОДАРСКАЯ_ОБЛ       True\n",
       "АКМОЛИНСКАЯ_ОБЛ        True\n",
       "ЗКО                   False\n",
       "ТУРКЕСТАНСКАЯ_ОБЛ     False\n",
       "АЛМАТИНСКАЯ_ОБЛ       False\n",
       "КЫЗЫЛОРДИНСКАЯ_ОБЛ    False\n",
       "CКО                   False\n",
       "Name: Salary_int, dtype: bool"
      ]
     },
     "execution_count": 79,
     "metadata": {},
     "output_type": "execute_result"
    }
   ],
   "source": [
    "#get regions, where average salary is less than average salary of whole country \n",
    "less = df2[\"Salary_int\"] < average_whole\n",
    "less"
   ]
  },
  {
   "cell_type": "code",
   "execution_count": 51,
   "metadata": {},
   "outputs": [
    {
     "data": {
      "text/plain": [
       "Text(0.5, 1.0, 'Box plot of salaries by regions')"
      ]
     },
     "execution_count": 51,
     "metadata": {},
     "output_type": "execute_result"
    },
    {
     "data": {
      "image/png": "[encoded data removed]",
      "text/plain": [
       "<Figure size 432x288 with 1 Axes>"
      ]
     },
     "metadata": {
      "needs_background": "light"
     },
     "output_type": "display_data"
    }
   ],
   "source": [
    "sns.boxplot(x = \"Salary_int\", y = \"Location\", data = df).set_title(\"Box plot of salaries by regions\")"
   ]
  },
  {
   "cell_type": "markdown",
   "metadata": {},
   "source": [
    "Now, let's establish relationship between work experience and salary."
   ]
  },
  {
   "cell_type": "code",
   "execution_count": 87,
   "metadata": {},
   "outputs": [
    {
     "name": "stdout",
     "output_type": "stream",
     "text": [
      "Pearsons correlation: 0.336\n"
     ]
    }
   ],
   "source": [
    "#calculate the Pearson’s correlation coefficient between work experience and salary\n",
    "corr, _ = pearsonr(df.Experience_int, df.Salary_int)\n",
    "print('Pearsons correlation: %.3f' % corr)"
   ]
  },
  {
   "cell_type": "markdown",
   "metadata": {},
   "source": [
    "Pearson’s Correlation Coefficient Tests whether work experience and salary have a linear relationship.\n",
    "\n",
    "Interpretation\n",
    "\n",
    "H0: the two samples are independent.\n",
    "\n",
    "H1: there is a dependency between the samples."
   ]
  },
  {
   "cell_type": "code",
   "execution_count": 88,
   "metadata": {},
   "outputs": [
    {
     "name": "stdout",
     "output_type": "stream",
     "text": [
      "stat=0.336, p=0.001\n",
      "Probably dependent\n"
     ]
    }
   ],
   "source": [
    "stat, p = pearsonr(df.Experience_int, df.Salary_int)\n",
    "print('stat=%.3f, p=%.3f' % (stat, p))\n",
    "if p > 0.05:\n",
    "    print('Probably independent')\n",
    "else:\n",
    "    print('Probably dependent')"
   ]
  },
  {
   "cell_type": "code",
   "execution_count": 109,
   "metadata": {},
   "outputs": [
    {
     "name": "stdout",
     "output_type": "stream",
     "text": [
      "Spearmans correlation: 0.439\n"
     ]
    }
   ],
   "source": [
    "#calculate the Spearman’s correlation coefficient between work experience and salary\n",
    "corr, _ = spearmanr(df.Experience_int, df.Salary_int)\n",
    "print('Spearmans correlation: %.3f' % corr)"
   ]
  },
  {
   "cell_type": "markdown",
   "metadata": {},
   "source": [
    "Spearman’s Rank Correlation Tests whether work experience and salary have a monotonic relationship.\n",
    "\n",
    "Interpretation\n",
    "\n",
    "H0: the two samples are independent.\n",
    "\n",
    "H1: there is a dependency between the samples."
   ]
  },
  {
   "cell_type": "code",
   "execution_count": 110,
   "metadata": {},
   "outputs": [
    {
     "name": "stdout",
     "output_type": "stream",
     "text": [
      "stat=0.439, p=0.000\n",
      "Probably dependent\n"
     ]
    }
   ],
   "source": [
    "stat, p = spearmanr(df.Experience_int, df.Salary_int)\n",
    "print('stat=%.3f, p=%.3f' % (stat, p))\n",
    "if p > 0.05:\n",
    "    print('Probably independent')\n",
    "else:\n",
    "    print('Probably dependent')"
   ]
  },
  {
   "cell_type": "code",
   "execution_count": 111,
   "metadata": {},
   "outputs": [
    {
     "data": {
      "text/html": [
       "<div>\n",
       "<style scoped>\n",
       "    .dataframe tbody tr th:only-of-type {\n",
       "        vertical-align: middle;\n",
       "    }\n",
       "\n",
       "    .dataframe tbody tr th {\n",
       "        vertical-align: top;\n",
       "    }\n",
       "\n",
       "    .dataframe thead th {\n",
       "        text-align: right;\n",
       "    }\n",
       "</style>\n",
       "<table border=\"1\" class=\"dataframe\">\n",
       "  <thead>\n",
       "    <tr style=\"text-align: right;\">\n",
       "      <th></th>\n",
       "      <th>Salary_int</th>\n",
       "    </tr>\n",
       "    <tr>\n",
       "      <th>Experience_int</th>\n",
       "      <th></th>\n",
       "    </tr>\n",
       "  </thead>\n",
       "  <tbody>\n",
       "    <tr>\n",
       "      <th>5</th>\n",
       "      <td>57500.0</td>\n",
       "    </tr>\n",
       "    <tr>\n",
       "      <th>0</th>\n",
       "      <td>79112.0</td>\n",
       "    </tr>\n",
       "    <tr>\n",
       "      <th>1</th>\n",
       "      <td>93296.0</td>\n",
       "    </tr>\n",
       "    <tr>\n",
       "      <th>2</th>\n",
       "      <td>133083.0</td>\n",
       "    </tr>\n",
       "    <tr>\n",
       "      <th>3</th>\n",
       "      <td>148409.0</td>\n",
       "    </tr>\n",
       "    <tr>\n",
       "      <th>4</th>\n",
       "      <td>175000.0</td>\n",
       "    </tr>\n",
       "  </tbody>\n",
       "</table>\n",
       "</div>"
      ],
      "text/plain": [
       "                Salary_int\n",
       "Experience_int            \n",
       "5                  57500.0\n",
       "0                  79112.0\n",
       "1                  93296.0\n",
       "2                 133083.0\n",
       "3                 148409.0\n",
       "4                 175000.0"
      ]
     },
     "execution_count": 111,
     "metadata": {},
     "output_type": "execute_result"
    }
   ],
   "source": [
    "#average salary by required work experience \n",
    "df3 = df.groupby(\"Experience_int\").agg({\"Salary_int\": np.mean}).round().sort_values(\"Salary_int\")\n",
    "df3"
   ]
  },
  {
   "cell_type": "code",
   "execution_count": 112,
   "metadata": {},
   "outputs": [
    {
     "data": {
      "text/plain": [
       "Text(0.5, 1.0, 'Box plot of salaries by work experience')"
      ]
     },
     "execution_count": 112,
     "metadata": {},
     "output_type": "execute_result"
    },
    {
     "data": {
      "image/png": "[encoded data removed]",
      "text/plain": [
       "<Figure size 432x288 with 1 Axes>"
      ]
     },
     "metadata": {
      "needs_background": "light"
     },
     "output_type": "display_data"
    }
   ],
   "source": [
    "sns.boxplot(x = \"Experience_int\", y = \"Salary_int\", data = df).set_title(\"Box plot of salaries by work experience\")"
   ]
  },
  {
   "cell_type": "markdown",
   "metadata": {},
   "source": [
    "# Conclusion"
   ]
  },
  {
   "cell_type": "markdown",
   "metadata": {},
   "source": [
    "The main task of this project was to find the answer to the research question of interest using some data analysis tools in Python. There were two main purposes of this project. They are: to find required average salary for whole country and for each region and compare the results; and to evaluate correlation analysis between variables: salary and required work experience.\n",
    "\n",
    "Regarding to the first purpose, firstly evaluated salary across the country and average salary was equal to 109247.8. 68% of all vacancies had salary less than average salary and accordingly 32% had more, which means that the number of regions with a large salary is less than with a small salary. It can be seen from the results by regions, there are 5 regions with higher than average salary, and 9 regions with lower. Visulisation is presented in the form of a box plot. "
   ]
  },
  {
   "cell_type": "markdown",
   "metadata": {},
   "source": [
    "Then established relationship between work experience and salary. Firstly, the correlation coefficients of Pearson and Spearman were found. In the case of Pearson, the coefficient was 0.336, in the case of Spearman, 0.439. In both cases correlation coefficient is positive moderate, which indicates direct proportional relationship.\n",
    "\n",
    "Further, thanks to correlation tests, a relationship was established between the proposed salary and the required work experience. Both tests have some assumptions that were taken into account and were satisfied:"
   ]
  },
  {
   "cell_type": "markdown",
   "metadata": {},
   "source": [
    "Assumptions of Pearson’s Correlation Test\n",
    "\n",
    "1. Observations in each sample are independent and identically distributed (iid).\n",
    "2. Observations in each sample are normally distributed.\n",
    "3. Observations in each sample have the same variance.\n",
    "\n",
    "Assumptions of Spearman’s Correlation Test\n",
    "\n",
    "1. Observations in each sample are independent and identically distributed (iid).\n",
    "2. Observations in each sample can be ranked."
   ]
  },
  {
   "cell_type": "markdown",
   "metadata": {},
   "source": [
    "From the table and boxplot, we see that in general, the more work experience required, the higher the salary offered, but there is a deviation in the case of 5 years. The highest proposed average salary to 4 years of experience equals to 175000.0 and to 3 years of experience equals to 148409.0.\n",
    "\n",
    "So, in general, the highest salary of vacancies analyst-statistician in regions Kyzylorda, Almaty and Akmola with required 3-4 years of work experience.\n",
    "\n"
   ]
  },
  {
   "cell_type": "markdown",
   "metadata": {},
   "source": [
    "In order to improve the analysis, a larger sample size is needed, because more accurate results by region will be obtained, for example, in the case of the region of northern Kazakhstan, there is only one vacancy, which makes it impossible to draw conclusions about the average. Also, there can be added hypothesis tests to accurate results."
   ]
  },
  {
   "cell_type": "markdown",
   "metadata": {},
   "source": [
    "I may therefore conclude that Python libraries (as pandas, statsmodels, matplotlib) justify more mathematical formulas for statistical inference (as mean estimation, standard deviation, coefficient of correlation, and so on). So, in Python, it's very easy to do analysis."
   ]
  }
 ],
 "metadata": {
  "kernelspec": {
   "display_name": "Python 3",
   "language": "python",
   "name": "python3"
  },
  "language_info": {
   "codemirror_mode": {
    "name": "ipython",
    "version": 3
   },
   "file_extension": ".py",
   "mimetype": "text/x-python",
   "name": "python",
   "nbconvert_exporter": "python",
   "pygments_lexer": "ipython3",
   "version": "3.8.3"
  }
 },
 "nbformat": 4,
 "nbformat_minor": 4
}
